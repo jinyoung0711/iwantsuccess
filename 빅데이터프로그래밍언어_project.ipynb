{
  "cells": [
    {
      "cell_type": "markdown",
      "metadata": {
        "id": "view-in-github",
        "colab_type": "text"
      },
      "source": [
        "<a href=\"https://colab.research.google.com/github/jinyoung0711/iwantsuccess/blob/main/%EB%B9%85%EB%8D%B0%EC%9D%B4%ED%84%B0%ED%94%84%EB%A1%9C%EA%B7%B8%EB%9E%98%EB%B0%8D%EC%96%B8%EC%96%B4_project.ipynb\" target=\"_parent\"><img src=\"https://colab.research.google.com/assets/colab-badge.svg\" alt=\"Open In Colab\"/></a>"
      ]
    },
    {
      "cell_type": "code",
      "execution_count": null,
      "metadata": {
        "id": "M1bQ8OwvuSoZ"
      },
      "outputs": [],
      "source": [
        "# import numpy and pandas\n",
        "import numpy as np\n",
        "import pandas as pd\n",
        "\n",
        "# used for dates\n",
        "import datetime\n",
        "from datetime import datetime, date\n",
        "\n",
        "# Set some pandas options controlling output format\n",
        "pd.set_option('display.notebook_repr_html', False)\n",
        "pd.set_option('display.max_columns', 8)\n",
        "pd.set_option('display.max_rows', 10)\n",
        "pd.set_option('display.width', 65)\n",
        "\n",
        "# bring in matplotlib for graphics\n",
        "import matplotlib.pyplot as plt\n",
        "%matplotlib inline\n",
        "\n",
        "import seaborn as sns\n",
        "sns.set(style=\"darkgrid\", palette=\"bright\", font_scale=1.5)"
      ]
    },
    {
      "cell_type": "code",
      "execution_count": null,
      "metadata": {
        "id": "Da5BvUGTuSod",
        "outputId": "909618f2-31e9-4b9d-c732-d4a47afec151"
      },
      "outputs": [
        {
          "data": {
            "text/plain": [
              "          No      ID                Name  Age  ... GKKicking  \\\n",
              "0          1  158023            L. Messi   31  ...      15.0   \n",
              "1          2   20801   Cristiano Ronaldo   33  ...      15.0   \n",
              "2          3  190871           Neymar Jr   26  ...      15.0   \n",
              "3          4  193080              De Gea   27  ...      87.0   \n",
              "4          5  192985        K. De Bruyne   27  ...       5.0   \n",
              "...      ...     ...                 ...  ...  ...       ...   \n",
              "18202  18203  238813        J. Lundstram   19  ...       7.0   \n",
              "18203  18204  243165  N. Christoffersson   19  ...       9.0   \n",
              "18204  18205  241638           B. Worman   16  ...      10.0   \n",
              "18205  18206  246268      D. Walker-Rice   17  ...      14.0   \n",
              "18206  18207  246269           G. Nugent   16  ...       9.0   \n",
              "\n",
              "      GKPositioning GKReflexes  Release Clause  \n",
              "0              14.0        8.0         €226.5M  \n",
              "1              14.0       11.0         €127.1M  \n",
              "2              15.0       11.0         €228.1M  \n",
              "3              88.0       94.0         €138.6M  \n",
              "4              10.0       13.0         €196.4M  \n",
              "...             ...        ...             ...  \n",
              "18202           8.0        9.0           €143K  \n",
              "18203           5.0       12.0           €113K  \n",
              "18204           6.0       13.0           €165K  \n",
              "18205           8.0        9.0           €143K  \n",
              "18206          12.0        9.0           €165K  \n",
              "\n",
              "[18207 rows x 89 columns]"
            ]
          },
          "execution_count": 23,
          "metadata": {},
          "output_type": "execute_result"
        }
      ],
      "source": [
        "data = pd.read_csv(\"Data Analytics/data/FIFAdata.csv\")\n",
        "data"
      ]
    },
    {
      "cell_type": "code",
      "execution_count": null,
      "metadata": {
        "id": "aC3oFag4uSof",
        "outputId": "74fde151-b2eb-4050-928e-dc6d2f2222d6"
      },
      "outputs": [
        {
          "data": {
            "text/plain": [
              "Index(['No', 'ID', 'Name', 'Age', 'Photo', 'Nationality',\n",
              "       'Flag', 'Overall', 'Potential', 'Club', 'Club Logo',\n",
              "       'Value', 'Wage', 'Special', 'Preferred Foot',\n",
              "       'International Reputation', 'Weak Foot', 'Skill Moves',\n",
              "       'Work Rate', 'Body Type', 'Real Face', 'Position',\n",
              "       'Jersey Number', 'Joined', 'Loaned From',\n",
              "       'Contract Valid Until', 'Height', 'Weight', 'LS', 'ST',\n",
              "       'RS', 'LW', 'LF', 'CF', 'RF', 'RW', 'LAM', 'CAM', 'RAM',\n",
              "       'LM', 'LCM', 'CM', 'RCM', 'RM', 'LWB', 'LDM', 'CDM',\n",
              "       'RDM', 'RWB', 'LB', 'LCB', 'CB', 'RCB', 'RB', 'Crossing',\n",
              "       'Finishing', 'HeadingAccuracy', 'ShortPassing',\n",
              "       'Volleys', 'Dribbling', 'Curve', 'FKAccuracy',\n",
              "       'LongPassing', 'BallControl', 'Acceleration',\n",
              "       'SprintSpeed', 'Agility', 'Reactions', 'Balance',\n",
              "       'ShotPower', 'Jumping', 'Stamina', 'Strength',\n",
              "       'LongShots', 'Aggression', 'Interceptions',\n",
              "       'Positioning', 'Vision', 'Penalties', 'Composure',\n",
              "       'Marking', 'StandingTackle', 'SlidingTackle', 'GKDiving',\n",
              "       'GKHandling', 'GKKicking', 'GKPositioning', 'GKReflexes',\n",
              "       'Release Clause'],\n",
              "      dtype='object')"
            ]
          },
          "execution_count": 28,
          "metadata": {},
          "output_type": "execute_result"
        }
      ],
      "source": [
        "data.columns"
      ]
    },
    {
      "cell_type": "code",
      "execution_count": null,
      "metadata": {
        "id": "1bkY45YouSog",
        "outputId": "29bf9b9c-0ef4-4d7e-a1b1-3f5378ef02cb"
      },
      "outputs": [
        {
          "data": {
            "text/plain": [
              "          No      ID             Name  Age  ... GKKicking  \\\n",
              "125      126  200104           H. Son   25  ...      13.0   \n",
              "1295    1296  180283    Ki Sung Yueng   29  ...       7.0   \n",
              "1407    1408  182152     Koo Ja Cheol   29  ...      10.0   \n",
              "2002    2003  211927  Kwon Chang Hoon   24  ...       9.0   \n",
              "2021    2022  221671     Lee Jae Sung   25  ...      15.0   \n",
              "...      ...     ...              ...  ...  ...       ...   \n",
              "17955  17956  240272   Min Gyeong Min   22  ...       9.0   \n",
              "17959  17960  245401     Lee Dong Hee   21  ...       7.0   \n",
              "17965  17966  243359     Kim Jong Jin   19  ...      14.0   \n",
              "18058  18059  244108  Hong Hyeon Seok   19  ...       7.0   \n",
              "18084  18085  244411      Kwon Ki Pyo   21  ...      14.0   \n",
              "\n",
              "      GKPositioning GKReflexes  Release Clause  \n",
              "125             6.0       10.0          €71.2M  \n",
              "1295            9.0       10.0          €14.3M  \n",
              "1407           15.0        9.0          €12.8M  \n",
              "2002            8.0        8.0          €17.6M  \n",
              "2021            6.0        8.0          €13.8M  \n",
              "...             ...        ...             ...  \n",
              "17955           8.0       12.0            €73K  \n",
              "17959           5.0       12.0            €73K  \n",
              "17965          14.0       11.0           €131K  \n",
              "18058          13.0       10.0           €104K  \n",
              "18084          12.0        5.0            €73K  \n",
              "\n",
              "[335 rows x 89 columns]"
            ]
          },
          "execution_count": 29,
          "metadata": {},
          "output_type": "execute_result"
        }
      ],
      "source": [
        "is_korea = data['Nationality'] == 'Korea Republic'\n",
        "korea_df = data[is_korea]\n",
        "korea_df"
      ]
    },
    {
      "cell_type": "code",
      "execution_count": null,
      "metadata": {
        "id": "xyv982BHuSoh",
        "outputId": "ec23a45b-4562-4f74-9ca6-290006acad67"
      },
      "outputs": [
        {
          "data": {
            "text/plain": [
              "                  Name  Age  Overall Preferred Foot Body Type  \\\n",
              "125             H. Son   25       84          Right      Lean   \n",
              "1295     Ki Sung Yueng   29       76          Right      Lean   \n",
              "1407      Koo Ja Cheol   29       76          Right      Lean   \n",
              "2002   Kwon Chang Hoon   24       75           Left    Normal   \n",
              "2021      Lee Jae Sung   25       75           Left      Lean   \n",
              "...                ...  ...      ...            ...       ...   \n",
              "17955   Min Gyeong Min   22       51          Right      Lean   \n",
              "17959     Lee Dong Hee   21       51          Right    Normal   \n",
              "17965     Kim Jong Jin   19       51          Right      Lean   \n",
              "18058  Hong Hyeon Seok   19       50           Left      Lean   \n",
              "18084      Kwon Ki Pyo   21       50          Right    Normal   \n",
              "\n",
              "      Position  \n",
              "125         LM  \n",
              "1295       LCM  \n",
              "1407       CAM  \n",
              "2002        RM  \n",
              "2021       CAM  \n",
              "...        ...  \n",
              "17955       CM  \n",
              "17959       CM  \n",
              "17965       CM  \n",
              "18058       CM  \n",
              "18084       ST  \n",
              "\n",
              "[335 rows x 6 columns]"
            ]
          },
          "execution_count": 117,
          "metadata": {},
          "output_type": "execute_result"
        }
      ],
      "source": [
        "korea_df1 = korea_df.loc[:, ['Name', 'Age', 'Overall', 'Preferred Foot','Body Type','Position']]\n",
        "korea_df1"
      ]
    },
    {
      "cell_type": "code",
      "execution_count": null,
      "metadata": {
        "id": "g0raH4POuSoi"
      },
      "outputs": [],
      "source": [
        "korea_df1 = korea_df1.reset_index(drop=True)"
      ]
    },
    {
      "cell_type": "code",
      "execution_count": null,
      "metadata": {
        "id": "bbfdPNJEuSoi",
        "outputId": "1ad584b1-ba60-4aa4-824a-9a178f55ea71"
      },
      "outputs": [
        {
          "data": {
            "text/plain": [
              "                Name  Age  Overall Preferred Foot Body Type  \\\n",
              "0             H. Son   25       84          Right      Lean   \n",
              "1      Ki Sung Yueng   29       76          Right      Lean   \n",
              "2       Koo Ja Cheol   29       76          Right      Lean   \n",
              "3    Kwon Chang Hoon   24       75           Left    Normal   \n",
              "4       Lee Jae Sung   25       75           Left      Lean   \n",
              "..               ...  ...      ...            ...       ...   \n",
              "330   Min Gyeong Min   22       51          Right      Lean   \n",
              "331     Lee Dong Hee   21       51          Right    Normal   \n",
              "332     Kim Jong Jin   19       51          Right      Lean   \n",
              "333  Hong Hyeon Seok   19       50           Left      Lean   \n",
              "334      Kwon Ki Pyo   21       50          Right    Normal   \n",
              "\n",
              "    Position  \n",
              "0         LM  \n",
              "1        LCM  \n",
              "2        CAM  \n",
              "3         RM  \n",
              "4        CAM  \n",
              "..       ...  \n",
              "330       CM  \n",
              "331       CM  \n",
              "332       CM  \n",
              "333       CM  \n",
              "334       ST  \n",
              "\n",
              "[335 rows x 6 columns]"
            ]
          },
          "execution_count": 119,
          "metadata": {},
          "output_type": "execute_result"
        }
      ],
      "source": [
        "korea_df1"
      ]
    },
    {
      "cell_type": "code",
      "execution_count": null,
      "metadata": {
        "id": "fyymZaDwuSoi",
        "outputId": "cf989cc5-5751-4963-a09b-5e7290125b64"
      },
      "outputs": [
        {
          "data": {
            "text/plain": [
              "6"
            ]
          },
          "execution_count": 120,
          "metadata": {},
          "output_type": "execute_result"
        }
      ],
      "source": [
        "(len(korea_df1) - korea_df1.count()).sum()"
      ]
    },
    {
      "cell_type": "code",
      "execution_count": null,
      "metadata": {
        "id": "9hhSjfewuSoj",
        "outputId": "70b068ed-09e4-495d-b651-a1f19b018e35"
      },
      "outputs": [
        {
          "data": {
            "text/plain": [
              "                Name  Age  Overall Preferred Foot Body Type  \\\n",
              "0             H. Son   25       84          Right      Lean   \n",
              "1      Ki Sung Yueng   29       76          Right      Lean   \n",
              "2       Koo Ja Cheol   29       76          Right      Lean   \n",
              "3    Kwon Chang Hoon   24       75           Left    Normal   \n",
              "4       Lee Jae Sung   25       75           Left      Lean   \n",
              "..               ...  ...      ...            ...       ...   \n",
              "330   Min Gyeong Min   22       51          Right      Lean   \n",
              "331     Lee Dong Hee   21       51          Right    Normal   \n",
              "332     Kim Jong Jin   19       51          Right      Lean   \n",
              "333  Hong Hyeon Seok   19       50           Left      Lean   \n",
              "334      Kwon Ki Pyo   21       50          Right    Normal   \n",
              "\n",
              "    Position  \n",
              "0         LM  \n",
              "1        LCM  \n",
              "2        CAM  \n",
              "3         RM  \n",
              "4        CAM  \n",
              "..       ...  \n",
              "330       CM  \n",
              "331       CM  \n",
              "332       CM  \n",
              "333       CM  \n",
              "334       ST  \n",
              "\n",
              "[333 rows x 6 columns]"
            ]
          },
          "execution_count": 121,
          "metadata": {},
          "output_type": "execute_result"
        }
      ],
      "source": [
        "korea_df1 = korea_df1.dropna(how='any', axis=0)\n",
        "korea_df1"
      ]
    },
    {
      "cell_type": "code",
      "execution_count": null,
      "metadata": {
        "id": "soMRTu7LuSok",
        "outputId": "08451759-7e41-404e-dc49-02505c36e4af"
      },
      "outputs": [
        {
          "data": {
            "text/plain": [
              "                Name  Age  Overall Preferred Foot Body Type  \\\n",
              "0       Suk Hyun Jun   27       74          Right    Normal   \n",
              "1     Kim Seung Joon   23       73          Right    Normal   \n",
              "2     Hwang Hee Chan   22       72          Right    Normal   \n",
              "3        Yeom Ki Hun   35       72           Left    Normal   \n",
              "4        Hwang Ui Jo   25       71          Right      Lean   \n",
              "..               ...  ...      ...            ...       ...   \n",
              "61      Lee Rae Joon   21       57          Right      Lean   \n",
              "62       Jo Yong Jae   20       56          Right      Lean   \n",
              "63     Jeong Chee In   20       56          Right    Normal   \n",
              "64  Jeong Chung Yeob   20       53          Right    Normal   \n",
              "65       Kwon Ki Pyo   21       50          Right    Normal   \n",
              "\n",
              "   Position  \n",
              "0        ST  \n",
              "1        RW  \n",
              "2        ST  \n",
              "3        ST  \n",
              "4        ST  \n",
              "..      ...  \n",
              "61       ST  \n",
              "62       RW  \n",
              "63       LW  \n",
              "64       LW  \n",
              "65       ST  \n",
              "\n",
              "[66 rows x 6 columns]"
            ]
          },
          "execution_count": 122,
          "metadata": {},
          "output_type": "execute_result"
        }
      ],
      "source": [
        "korea_df_ST = korea_df1.loc[(korea_df1['Position'] == 'ST') | (korea_df1['Position'] == 'CF')|\n",
        "                            (korea_df1['Position'] == 'LF') | (korea_df1['Position'] == 'RF')|\n",
        "                            (korea_df1['Position'] == 'LW') | (korea_df1['Position'] == 'RW')|\n",
        "                            (korea_df1['Position'] == 'LS') | (korea_df1['Position'] == 'RS')]\n",
        "korea_df_ST = korea_df_ST.reset_index(drop=True)\n",
        "korea_df_ST"
      ]
    },
    {
      "cell_type": "code",
      "execution_count": null,
      "metadata": {
        "id": "wfMtvi82uSok",
        "outputId": "2eb6468d-6b5c-4346-f318-92f08c74f047"
      },
      "outputs": [
        {
          "data": {
            "text/plain": [
              "                Name  Age  Overall Preferred Foot Body Type  \\\n",
              "0             H. Son   25       84          Right      Lean   \n",
              "1      Ki Sung Yueng   29       76          Right      Lean   \n",
              "2       Koo Ja Cheol   29       76          Right      Lean   \n",
              "3    Kwon Chang Hoon   24       75           Left    Normal   \n",
              "4       Lee Jae Sung   25       75           Left      Lean   \n",
              "..               ...  ...      ...            ...       ...   \n",
              "117  Choi Beom Kyung   21       53          Right    Normal   \n",
              "118   Min Gyeong Min   22       51          Right      Lean   \n",
              "119     Lee Dong Hee   21       51          Right    Normal   \n",
              "120     Kim Jong Jin   19       51          Right      Lean   \n",
              "121  Hong Hyeon Seok   19       50           Left      Lean   \n",
              "\n",
              "    Position  \n",
              "0         LM  \n",
              "1        LCM  \n",
              "2        CAM  \n",
              "3         RM  \n",
              "4        CAM  \n",
              "..       ...  \n",
              "117       CM  \n",
              "118       CM  \n",
              "119       CM  \n",
              "120       CM  \n",
              "121       CM  \n",
              "\n",
              "[122 rows x 6 columns]"
            ]
          },
          "execution_count": 123,
          "metadata": {},
          "output_type": "execute_result"
        }
      ],
      "source": [
        "korea_df_MF = korea_df1.loc[(korea_df1['Position'] == 'CAM') | (korea_df1['Position'] == 'CDM')|\n",
        "                            (korea_df1['Position'] == 'CM') | (korea_df1['Position'] == 'LAM')|\n",
        "                            (korea_df1['Position'] == 'LCM') | (korea_df1['Position'] == 'LDM')|\n",
        "                            (korea_df1['Position'] == 'LM') | (korea_df1['Position'] == 'RM')|\n",
        "                            (korea_df1['Position'] == 'RAM') | (korea_df1['Position'] == 'RCM')|\n",
        "                                                               (korea_df1['Position'] == 'RDM')]\n",
        "korea_df_MF = korea_df_MF.reset_index(drop=True)\n",
        "korea_df_MF"
      ]
    },
    {
      "cell_type": "code",
      "execution_count": null,
      "metadata": {
        "id": "55HqpMkNuSol",
        "outputId": "0d1afe58-2975-4184-9d94-770b21f0e907"
      },
      "outputs": [
        {
          "data": {
            "text/plain": [
              "               Name  Age  Overall Preferred Foot Body Type  \\\n",
              "0       Kim Min Jae   21       72          Right    Normal   \n",
              "1        Kim Jin Su   26       72           Left    Normal   \n",
              "2     Hong Jeong Ho   28       72          Right      Lean   \n",
              "3    Choi Chul Soon   31       72          Right      Lean   \n",
              "4      Koo Ja Ryong   26       70          Right    Normal   \n",
              "..              ...  ...      ...            ...       ...   \n",
              "100     Lee Tae Hee   26       59          Right    Normal   \n",
              "101     Kim Jung Ho   23       58          Right    Normal   \n",
              "102     Park Ji Soo   24       58          Right    Normal   \n",
              "103    Park Jung Ho   21       57          Right    Normal   \n",
              "104     Kim Woo Suk   21       57          Right      Lean   \n",
              "\n",
              "    Position  \n",
              "0         CB  \n",
              "1         LB  \n",
              "2        RCB  \n",
              "3         LB  \n",
              "4        RCB  \n",
              "..       ...  \n",
              "100       RB  \n",
              "101       CB  \n",
              "102       LB  \n",
              "103       CB  \n",
              "104       CB  \n",
              "\n",
              "[105 rows x 6 columns]"
            ]
          },
          "execution_count": 124,
          "metadata": {},
          "output_type": "execute_result"
        }
      ],
      "source": [
        "korea_df_CB = korea_df1.loc[(korea_df1['Position'] == 'CB') | (korea_df1['Position'] == 'RB')|\n",
        "                            (korea_df1['Position'] == 'LB') | (korea_df1['Position'] == 'LCB')|\n",
        "                            (korea_df1['Position'] == 'LWB') | (korea_df1['Position'] == 'RWB')|\n",
        "                            (korea_df1['Position'] == 'RCB')]\n",
        "korea_df_CB = korea_df_CB.reset_index(drop=True)\n",
        "korea_df_CB"
      ]
    },
    {
      "cell_type": "code",
      "execution_count": null,
      "metadata": {
        "id": "GHfHzo9xuSol",
        "outputId": "72b671e0-33db-4b41-9c5c-c37481a42c14"
      },
      "outputs": [
        {
          "data": {
            "text/plain": [
              "               Name  Age  Overall Preferred Foot Body Type  \\\n",
              "0      Cho Hyun Woo   26       74          Right      Lean   \n",
              "1     Shin Hwa Yong   35       73          Right      Lean   \n",
              "2     Kwoun Sun Tae   33       72          Right    Stocky   \n",
              "3   Jung Sung Ryong   33       71          Right    Normal   \n",
              "4     Kang Hyeon Mu   23       71          Right    Normal   \n",
              "..              ...  ...      ...            ...       ...   \n",
              "35      Park Ji Min   18       58          Right    Normal   \n",
              "36   Choi Young Eun   22       57          Right    Normal   \n",
              "37     Lee Joon Hee   24       56          Right    Normal   \n",
              "38       Kim Tae Ho   26       56          Right    Normal   \n",
              "39        Lee Yunoh   19       53          Right    Normal   \n",
              "\n",
              "   Position  \n",
              "0        GK  \n",
              "1        GK  \n",
              "2        GK  \n",
              "3        GK  \n",
              "4        GK  \n",
              "..      ...  \n",
              "35       GK  \n",
              "36       GK  \n",
              "37       GK  \n",
              "38       GK  \n",
              "39       GK  \n",
              "\n",
              "[40 rows x 6 columns]"
            ]
          },
          "execution_count": 156,
          "metadata": {},
          "output_type": "execute_result"
        }
      ],
      "source": [
        "korea_df_GK = korea_df1.loc[(korea_df1['Position'] == 'GK')]\n",
        "korea_df_GK = korea_df_GK.reset_index(drop=True)\n",
        "korea_df_GK"
      ]
    },
    {
      "cell_type": "code",
      "execution_count": null,
      "metadata": {
        "id": "iP3v2IbEuSom",
        "outputId": "425f88b3-6ca0-4fd5-f16d-1bacac592ffc"
      },
      "outputs": [
        {
          "name": "stdout",
          "output_type": "stream",
          "text": [
            "<class 'pandas.core.frame.DataFrame'>\n",
            "Int64Index: 333 entries, 0 to 334\n",
            "Data columns (total 6 columns):\n",
            " #   Column          Non-Null Count  Dtype \n",
            "---  ------          --------------  ----- \n",
            " 0   Name            333 non-null    object\n",
            " 1   Age             333 non-null    int64 \n",
            " 2   Overall         333 non-null    int64 \n",
            " 3   Preferred Foot  333 non-null    object\n",
            " 4   Body Type       333 non-null    object\n",
            " 5   Position        333 non-null    object\n",
            "dtypes: int64(2), object(4)\n",
            "memory usage: 18.2+ KB\n"
          ]
        }
      ],
      "source": [
        "korea_df1.info()"
      ]
    },
    {
      "cell_type": "code",
      "execution_count": null,
      "metadata": {
        "id": "2gdTew6nuSom",
        "outputId": "4cd6b84a-4427-43a3-9a81-eb353eb7a6c0"
      },
      "outputs": [
        {
          "data": {
            "text/plain": [
              "<AxesSubplot:>"
            ]
          },
          "execution_count": 130,
          "metadata": {},
          "output_type": "execute_result"
        },
        {
          "data": {
            "image/png": "[encoded data removed]",
            "text/plain": [
              "<Figure size 432x288 with 1 Axes>"
            ]
          },
          "metadata": {},
          "output_type": "display_data"
        }
      ],
      "source": [
        "korea_df_ST.plot()"
      ]
    },
    {
      "cell_type": "code",
      "execution_count": null,
      "metadata": {
        "id": "j9YyFobiuSon",
        "outputId": "542dd0ee-3004-4b11-f897-066eb4343816"
      },
      "outputs": [
        {
          "data": {
            "text/plain": [
              "<AxesSubplot:>"
            ]
          },
          "execution_count": 127,
          "metadata": {},
          "output_type": "execute_result"
        },
        {
          "data": {
            "image/png": "[encoded data removed]",
            "text/plain": [
              "<Figure size 432x288 with 2 Axes>"
            ]
          },
          "metadata": {},
          "output_type": "display_data"
        }
      ],
      "source": [
        "corrmat = korea_df1.corr()\n",
        "sns.color_palette(\"Paired\")\n",
        "sns.heatmap(corrmat, vmax=.8, square=True, cmap=\"PiYG\", center=0)"
      ]
    },
    {
      "cell_type": "code",
      "execution_count": null,
      "metadata": {
        "id": "gL1AbL78uSon",
        "outputId": "bc77d178-81f8-48e1-c625-68d01ae81509"
      },
      "outputs": [
        {
          "data": {
            "text/plain": [
              "Stocky     2\n",
              "Lean      24\n",
              "Normal    40\n",
              "Name: Body Type, dtype: int64"
            ]
          },
          "execution_count": 146,
          "metadata": {},
          "output_type": "execute_result"
        }
      ],
      "source": [
        "korea_df_ST['Body Type'].value_counts(ascending=True)"
      ]
    },
    {
      "cell_type": "code",
      "execution_count": null,
      "metadata": {
        "id": "o5IaguAGuSoo",
        "outputId": "97b495d4-d61b-4dfd-f208-d6a251f319df"
      },
      "outputs": [
        {
          "data": {
            "text/plain": [
              "Stocky     2\n",
              "Lean      37\n",
              "Normal    83\n",
              "Name: Body Type, dtype: int64"
            ]
          },
          "execution_count": 149,
          "metadata": {},
          "output_type": "execute_result"
        }
      ],
      "source": [
        "korea_df_MF['Body Type'].value_counts(ascending=True)"
      ]
    },
    {
      "cell_type": "code",
      "execution_count": null,
      "metadata": {
        "id": "nY9WO2u-uSoo",
        "outputId": "314347f5-e627-449e-f05b-3ada8fdde213"
      },
      "outputs": [
        {
          "data": {
            "text/plain": [
              "Stocky     1\n",
              "Lean      26\n",
              "Normal    78\n",
              "Name: Body Type, dtype: int64"
            ]
          },
          "execution_count": 148,
          "metadata": {},
          "output_type": "execute_result"
        }
      ],
      "source": [
        "korea_df_CB['Body Type'].value_counts(ascending=True)"
      ]
    },
    {
      "cell_type": "code",
      "execution_count": null,
      "metadata": {
        "id": "rVy5HdwJuSoo",
        "outputId": "2eeeef37-2638-4030-c25d-9cb218bfa326"
      },
      "outputs": [
        {
          "data": {
            "text/plain": [
              "Stocky     1\n",
              "Lean       6\n",
              "Normal    33\n",
              "Name: Body Type, dtype: int64"
            ]
          },
          "execution_count": 150,
          "metadata": {},
          "output_type": "execute_result"
        }
      ],
      "source": [
        "korea_df_GK['Body Type'].value_counts(ascending=True)"
      ]
    },
    {
      "cell_type": "code",
      "execution_count": null,
      "metadata": {
        "id": "0JVrrHgEuSoq",
        "outputId": "ff166d5c-8f3e-445f-a881-9fe4779cf6c9"
      },
      "outputs": [
        {
          "data": {
            "text/plain": [
              "Left      2\n",
              "Right    38\n",
              "Name: Preferred Foot, dtype: int64"
            ]
          },
          "execution_count": 152,
          "metadata": {},
          "output_type": "execute_result"
        }
      ],
      "source": [
        "korea_df_ST['Preferred Foot'].value_counts(ascending=True)"
      ]
    },
    {
      "cell_type": "code",
      "execution_count": null,
      "metadata": {
        "id": "29KGAf0cuSoq",
        "outputId": "2782730a-2976-4131-fd29-8fcec67ac578"
      },
      "outputs": [
        {
          "data": {
            "text/plain": [
              "Left     23\n",
              "Right    99\n",
              "Name: Preferred Foot, dtype: int64"
            ]
          },
          "execution_count": 154,
          "metadata": {},
          "output_type": "execute_result"
        }
      ],
      "source": [
        "korea_df_MF['Preferred Foot'].value_counts(ascending=True)"
      ]
    },
    {
      "cell_type": "code",
      "execution_count": null,
      "metadata": {
        "id": "9oEoiTrSuSor",
        "outputId": "f43cc546-9f00-40e1-dae8-884ed855483b"
      },
      "outputs": [
        {
          "data": {
            "text/plain": [
              "Left     21\n",
              "Right    84\n",
              "Name: Preferred Foot, dtype: int64"
            ]
          },
          "execution_count": 153,
          "metadata": {},
          "output_type": "execute_result"
        }
      ],
      "source": [
        "korea_df_CB['Preferred Foot'].value_counts(ascending=True)"
      ]
    },
    {
      "cell_type": "code",
      "execution_count": null,
      "metadata": {
        "id": "fBLI-N8vuSor",
        "outputId": "435ae359-4ac2-4427-a29e-0306e884bd0c"
      },
      "outputs": [
        {
          "data": {
            "text/plain": [
              "Left      2\n",
              "Right    38\n",
              "Name: Preferred Foot, dtype: int64"
            ]
          },
          "execution_count": 155,
          "metadata": {},
          "output_type": "execute_result"
        }
      ],
      "source": [
        "korea_df_GK['Preferred Foot'].value_counts(ascending=True)"
      ]
    }
  ],
  "metadata": {
    "kernelspec": {
      "display_name": "Python 3",
      "language": "python",
      "name": "python3"
    },
    "language_info": {
      "codemirror_mode": {
        "name": "ipython",
        "version": 3
      },
      "file_extension": ".py",
      "mimetype": "text/x-python",
      "name": "python",
      "nbconvert_exporter": "python",
      "pygments_lexer": "ipython3",
      "version": "3.8.5"
    },
    "colab": {
      "provenance": [],
      "include_colab_link": true
    }
  },
  "nbformat": 4,
  "nbformat_minor": 0
}